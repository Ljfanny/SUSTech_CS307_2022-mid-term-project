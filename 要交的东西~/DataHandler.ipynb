{
 "cells": [
  {
   "cell_type": "code",
   "execution_count": null,
   "metadata": {},
   "outputs": [],
   "source": [
    "import pandas as pd\n",
    "import xlsxwriter\n",
    "import chardet\n",
    "import numpydoc\n",
    "data_path = \"./contract_info.csv\" \n",
    "with open(data_path, 'rb') as rawdata:\n",
    "    enctype = chardet.detect(rawdata.read(10000))\n",
    "print (enctype)\n",
    "data = pd.read_csv(data_path)\n",
    "# data[data.loc[:,['lodgement date']].isnull() == True,:]\n",
    "data[data['lodgement date'].isnull()]\n",
    "# data.loc[:,['lodgement date']]\n"
   ]
  },
  {
   "cell_type": "code",
   "execution_count": 2,
   "metadata": {},
   "outputs": [],
   "source": [
    "salesman = data.loc[:, ['supply center','salesman', 'salesman number','gender','age', 'supply center']]\n",
    "salesman = salesman.drop_duplicates()\n",
    "salesman.to_csv(\"salesman.txt\", sep=';',index=False, header=None)"
   ]
  },
  {
   "cell_type": "code",
   "execution_count": null,
   "metadata": {},
   "outputs": [],
   "source": [
    "phonenumber = data.loc[:, ['salesman number','mobile phone']]\n",
    "phonenumber = phonenumber.drop_duplicates()\n",
    "phonenumber.to_csv(\"phonenumber.txt\",sep=';',index=False, header=None)"
   ]
  },
  {
   "cell_type": "code",
   "execution_count": null,
   "metadata": {},
   "outputs": [],
   "source": [
    "model = data.loc[:, ['product model','unit price','product code']]\n",
    "model = model.drop_duplicates()\n",
    "model.to_csv(\"model.txt\",sep=';',index=False, header=None)"
   ]
  },
  {
   "cell_type": "code",
   "execution_count": null,
   "metadata": {},
   "outputs": [],
   "source": [
    "product = data.loc[:, ['product code','product name']]\n",
    "product=product.drop_duplicates()\n",
    "product.to_csv(\"product.txt\", sep=';',index=False, header=None)"
   ]
  },
  {
   "cell_type": "code",
   "execution_count": null,
   "metadata": {},
   "outputs": [],
   "source": [
    "director = data.loc[:, ['supply center','director']]\n",
    "director = director.drop_duplicates()\n",
    "director.to_csv(\"director.txt\", sep=';',index=False, header=None)"
   ]
  },
  {
   "cell_type": "code",
   "execution_count": null,
   "metadata": {},
   "outputs": [],
   "source": [
    "enterprise = data.loc[:, ['client enterprise','industry','city','country','supply center']]\n",
    "enterprise = enterprise.drop_duplicates()\n",
    "enterprise.to_csv(\"enterprise.txt\",sep=';',index=False, header=None)"
   ]
  },
  {
   "cell_type": "code",
   "execution_count": null,
   "metadata": {},
   "outputs": [],
   "source": [
    "supplier = data.loc[:,['director','supply center']]\n",
    "supplier = supplier.drop_duplicates()\n",
    "supplier.to_csv(\"supplier.txt\", sep=';',index=False, header=None)"
   ]
  },
  {
   "cell_type": "code",
   "execution_count": null,
   "metadata": {},
   "outputs": [],
   "source": [
    "contract = data.loc[:, ['contract number','contract date','client enterprise']]\n",
    "contract = contract.drop_duplicates()\n",
    "contract.to_csv(\"contract.txt\", sep=';',index=False, header=None)"
   ]
  },
  {
   "cell_type": "code",
   "execution_count": null,
   "metadata": {},
   "outputs": [],
   "source": [
    "order = data.loc[:, ['estimated delivery date','lodgement date','quantity','salesman number','product model','contract number']]\n",
    "order = order.drop_duplicates()\n",
    "order.to_csv(\"order.txt\", sep=';',index=False, header=None)"
   ]
  }
 ],
 "metadata": {
  "interpreter": {
   "hash": "723535a8edb9833dbe6d8a0870243ff0b0739b87649b086ba16c98e1201384db"
  },
  "kernelspec": {
   "display_name": "Python 3.9.7 64-bit",
   "language": "python",
   "name": "python3"
  },
  "language_info": {
   "codemirror_mode": {
    "name": "ipython",
    "version": 3
   },
   "file_extension": ".py",
   "mimetype": "text/x-python",
   "name": "python",
   "nbconvert_exporter": "python",
   "pygments_lexer": "ipython3",
   "version": "3.9.7"
  },
  "orig_nbformat": 4
 },
 "nbformat": 4,
 "nbformat_minor": 2
}
